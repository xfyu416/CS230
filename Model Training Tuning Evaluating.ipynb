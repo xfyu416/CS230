{
 "cells": [
  {
   "cell_type": "code",
   "execution_count": 1,
   "metadata": {},
   "outputs": [
    {
     "name": "stderr",
     "output_type": "stream",
     "text": [
      "Using TensorFlow backend.\n"
     ]
    }
   ],
   "source": [
    "import keras.layers\n",
    "from keras.utils import plot_model\n",
    "from keras.models import Model\n",
    "from keras.layers import BatchNormalization\n",
    "from keras.layers import Input\n",
    "from keras.layers import Dense\n",
    "from keras.layers import Flatten\n",
    "from keras.layers.convolutional import Conv2D\n",
    "from keras.layers.pooling import MaxPooling2D, AveragePooling2D\n",
    "from keras import backend as K\n",
    "from keras.preprocessing.image import ImageDataGenerator\n",
    "from keras.optimizers import Adam\n",
    "from keras.preprocessing.image import img_to_array\n",
    "from sklearn.preprocessing import MultiLabelBinarizer\n",
    "from sklearn.model_selection import train_test_split\n",
    "import matplotlib.pyplot as plt\n",
    "import numpy as np\n",
    "import argparse\n",
    "import random\n",
    "import pickle\n",
    "from keras import regularizers"
   ]
  },
  {
   "cell_type": "code",
   "execution_count": 2,
   "metadata": {
    "collapsed": true
   },
   "outputs": [],
   "source": [
    "from numpy import array\n",
    "from numpy import argmax\n",
    "from sklearn.preprocessing import LabelEncoder\n",
    "from sklearn.preprocessing import OneHotEncoder\n",
    "import os\n",
    "from keras.models import model_from_json\n",
    "from keras.callbacks import ModelCheckpoint\n",
    "import pandas as pd"
   ]
  },
  {
   "cell_type": "code",
   "execution_count": 3,
   "metadata": {
    "collapsed": true
   },
   "outputs": [],
   "source": [
    "class Params():\n",
    "    \"\"\"Class that loads hyperparameters from a json file.\n",
    "    Example:\n",
    "    ```\n",
    "    params = Params(json_path)\n",
    "    print(params.learning_rate)\n",
    "    params.learning_rate = 0.5  # change the value of learning_rate in params\n",
    "    ```\n",
    "    \"\"\"\n",
    "\n",
    "    def __init__(self, json_path):\n",
    "        self.json_path = json_path\n",
    "\n",
    "    def save(self, json_path):\n",
    "        \"\"\"Saves parameters to json file\"\"\"\n",
    "        with open(json_path, 'w') as f:\n",
    "            json.dump(self.__dict__, f, indent=4)\n",
    "\n",
    "    def update(self, json_path):\n",
    "        \"\"\"Loads parameters from json file\"\"\"\n",
    "        with open(json_path) as f:\n",
    "            params = json.load(f)\n",
    "            self.__dict__.update(params)\n",
    "\n",
    "    @property\n",
    "    def dict(self):\n",
    "        \"\"\"Gives dict-like access to Params instance by `params.dict['learning_rate']`\"\"\"\n",
    "        return self.__dict__"
   ]
  },
  {
   "cell_type": "code",
   "execution_count": 5,
   "metadata": {},
   "outputs": [
    {
     "name": "stdout",
     "output_type": "stream",
     "text": [
      "[[0. 0. 0. 0. 0. 1.]\n",
      " [0. 0. 0. 0. 0. 1.]\n",
      " [0. 0. 0. 0. 0. 1.]\n",
      " ...\n",
      " [1. 0. 0. 0. 0. 0.]\n",
      " [1. 0. 0. 0. 0. 0.]\n",
      " [1. 0. 0. 0. 0. 0.]]\n"
     ]
    }
   ],
   "source": [
    "''' For Full Sized Data, please visit \n",
    "https://drive.google.com/open?id=1VHPcTypbq0oqV5CMCQ1H7W_Uj6iSzkL_\n",
    "https://drive.google.com/open?id=1N72Jf5j6yRYAyP49qLrRVZbh6p2GJ5Uv\n",
    "https://drive.google.com/open?id=1WzCHQV2074FStb427WRx2Ru7mAu6jUW6\n",
    "'''\n",
    "#xDataRaw = pickle.load(open( 'xDataMelSmaller.pkl', \"rb\" ))\n",
    "#genreDataRaw = pickle.load(open( 'genreDataSmaller.pkl', \"rb\" ))\n",
    "#featDataRaw = pickle.load(open( 'featDataSmaller.pkl', \"rb\" ))\n",
    "\n",
    "''' I made a sample subset from the data set I actually used for you to test run'''\n",
    "xDataRaw = pickle.load(open( 'xDataMelSample.pkl', \"rb\" ))\n",
    "genreDataRaw = pickle.load(open( 'genreDataSample.pkl', \"rb\" ))\n",
    "featDataRaw = pickle.load(open( 'featDataSample.pkl', \"rb\" ))\n",
    "\n",
    "featDataRaw = featDataRaw[:,0:4]\n",
    "\n",
    "xData = np.asarray(xDataRaw) / 255.0\n",
    "genreData = np.array(genreDataRaw)\n",
    "featData= np.array(featDataRaw)\n",
    "\n",
    "label_encoder = LabelEncoder()\n",
    "integer_encoded = label_encoder.fit_transform(genreData)\n",
    "onehot_encoder = OneHotEncoder(sparse=False)\n",
    "integer_encoded = integer_encoded.reshape(len(integer_encoded), 1)\n",
    "genres = onehot_encoder.fit_transform(integer_encoded)\n",
    "print(genres)\n"
   ]
  },
  {
   "cell_type": "code",
   "execution_count": 6,
   "metadata": {
    "collapsed": true
   },
   "outputs": [],
   "source": [
    "def ConvertValenceToLabel(data):\n",
    "    if data<=.3:\n",
    "        return 'Sad'\n",
    "    elif (data>.3 and data<=.6):\n",
    "        return 'moodNeutral'\n",
    "    else:\n",
    "        return 'Happy'\n",
    "    "
   ]
  },
  {
   "cell_type": "code",
   "execution_count": 7,
   "metadata": {
    "collapsed": true
   },
   "outputs": [],
   "source": [
    "danceability = featData[:,0]\n",
    "energy = featData[:,1]\n",
    "valence = featData[:,2]\n",
    "accousticness = featData[:,3]\n",
    "ValenceData = []\n",
    "for data in valence:\n",
    "    ValenceData.extend([ConvertValenceToLabel(data) ])\n",
    "    \n"
   ]
  },
  {
   "cell_type": "code",
   "execution_count": 8,
   "metadata": {},
   "outputs": [
    {
     "name": "stdout",
     "output_type": "stream",
     "text": [
      "[[0. 1. 0.]\n",
      " [0. 1. 0.]\n",
      " [0. 1. 0.]\n",
      " ...\n",
      " [0. 0. 1.]\n",
      " [0. 0. 1.]\n",
      " [0. 0. 1.]]\n"
     ]
    }
   ],
   "source": [
    "label_encoder_valence = LabelEncoder()\n",
    "onehot_encoder_valence = OneHotEncoder(sparse=False)\n",
    "integer_encoded_Valence = label_encoder_valence.fit_transform(ValenceData)\n",
    "integer_encoded_Valence = integer_encoded_Valence.reshape(len(integer_encoded_Valence), 1)\n",
    "valenceOneHot = onehot_encoder.fit_transform(integer_encoded_Valence)\n",
    "print(valenceOneHot)"
   ]
  },
  {
   "cell_type": "code",
   "execution_count": 23,
   "metadata": {
    "collapsed": true
   },
   "outputs": [],
   "source": [
    "test_portion = .05\n",
    "dev_portion = .05\n",
    "test_size = round(len(xData)*test_portion)\n",
    "dev_size = round(len(xData)*dev_portion)\n",
    "randTotal= np.random.randint(1,len(xData),test_size+dev_size)\n",
    "randTest = randTotal[0:test_size]\n",
    "randDev = randTotal[test_size:]\n",
    "origIndices= list(range(0, len(xData)))\n",
    "trainIndices = [x for x in origIndices if x not in randTotal]\n",
    "\n",
    "devX = xData[randDev]\n",
    "devGenres =genres[randDev]\n",
    "devValence =valenceOneHot[randDev]\n",
    "\n",
    "trainX = xData[trainIndices]\n",
    "trainGenres =genres[trainIndices]\n",
    "trainValence =valenceOneHot[trainIndices]\n",
    "\n",
    "testX = xData[randTest]\n",
    "testGenres = genres[randTest]\n",
    "testValence = valenceOneHot[randTest]\n",
    "\n",
    "\n",
    "testX=testX.reshape(testX.shape[0],testX.shape[1],testX.shape[2],1)\n",
    "trainX=trainX.reshape(trainX.shape[0],trainX.shape[1],trainX.shape[2],1)\n",
    "devX = devX.reshape(devX.shape[0],devX.shape[1],devX.shape[2],1)"
   ]
  },
  {
   "cell_type": "code",
   "execution_count": 53,
   "metadata": {
    "collapsed": true
   },
   "outputs": [],
   "source": [
    "def buildZhang(width, height, depth,classesGenres,classesValence, param,activate=\"softmax\"):\n",
    "\n",
    "    regparam = param.regparam\n",
    "    dropout = param.dropout\n",
    "    \n",
    "    inputShape = (height, width, depth)   \n",
    "        \n",
    "    visible = Input(inputShape, name='input1')   \n",
    "    \n",
    "    bn0=BatchNormalization(name='BN_input')(visible)    \n",
    "    conv1 = Conv2D(filters=128, kernel_size=1, strides=1, activation='relu', \n",
    "                   kernel_initializer='glorot_normal',padding='same',name='Conv1')(bn0)   \n",
    "    bn1 = BatchNormalization(name='BN_conv1')(conv1)\n",
    "    pool1 = MaxPooling2D(pool_size=(2,1), padding='same', name='pool1')(bn1) \n",
    "    conv2 = Conv2D(filters=128, kernel_size=1, strides=1, activation='relu', \n",
    "                   kernel_initializer='glorot_normal',padding='same', name='Conv2')(pool1)    \n",
    "    bn2 = BatchNormalization(name='BN_conv2')(conv2)\n",
    "    pool2 = MaxPooling2D(pool_size=(2,1), padding='same', name='pool2')(bn2)    \n",
    "    conv3 =  Conv2D(filters=256, kernel_size=1, strides=1, activation='relu', \n",
    "                   kernel_initializer='glorot_normal',padding='same', name='Conv3')(pool2)   \n",
    "    bn3 = BatchNormalization(name='BN_conv3')(conv3)\n",
    "    pool3 = MaxPooling2D(pool_size=(6,1),padding='same', name='pool3Max')(bn3)       \n",
    "    pool4 = AveragePooling2D(pool_size=(6,1),padding='same', name='pool3Ave')(bn3)\n",
    "    poolave = keras.layers.average([pool4,pool3], name='pool3Combined')\n",
    "       \n",
    "    flat = Flatten(name='Flatten')(poolave)\n",
    "    dropd0=keras.layers.Dropout(dropout, name='Drop_Conv3')(flat)\n",
    "      \n",
    "    \n",
    "    if param.FCLayers ==1:\n",
    "         \n",
    "        hidden1 = Dense(15, activation='relu',kernel_regularizer=regularizers.l2(regparam), name='FC1')(dropd0)\n",
    "        bnd1 = BatchNormalization(name='BN_FC1')(hidden1)   \n",
    "        dropd1 = keras.layers.Dropout(dropout, name='DropOut_FC1')(bnd1)          \n",
    "        outputGenre = Dense(classesGenres, activation=activate, name=\"genreOutput\")(dropd1)\n",
    "        outputValence = Dense(classesValence, activation=activate, name = \"valenceOutput\")(dropd1)\n",
    "    else:\n",
    "        hidden1 = Dense(300, activation='relu',kernel_regularizer=regularizers.l2(regparam), name='FC1')(dropd0)\n",
    "        bnd1 = BatchNormalization(name='BN_FC1')(hidden1)   \n",
    "        dropd1 = keras.layers.Dropout(dropout, name='DropOut_FC1')(bnd1) \n",
    "        hidden2 = Dense(150, activation='relu',kernel_regularizer=regularizers.l2(regparam), name='FC2')(dropd1)\n",
    "        bnd2 = BatchNormalization(name='BN_FC2')(hidden2)   \n",
    "        dropd2 = keras.layers.Dropout(dropout, name='DropOut_FC2')(bnd2)\n",
    "        \n",
    "        outputGenre = Dense(classesGenres, activation=activate, name=\"genreOutput\")(dropd2)\n",
    "        outputValence = Dense(classesValence, activation=activate, name = \"valenceOutput\")(dropd2)\n",
    "        \n",
    "       \n",
    "        \n",
    "    modelFunc = Model(inputs=visible, outputs=[outputGenre,outputValence])\n",
    "    \n",
    "    return modelFunc\n"
   ]
  },
  {
   "cell_type": "code",
   "execution_count": 35,
   "metadata": {
    "collapsed": true
   },
   "outputs": [],
   "source": [
    "def buildChoi(width, height, depth,classesGenres,classesValence, param,activate=\"softmax\"):\n",
    "\n",
    "    regparam = param.regparam\n",
    "    dropout = param.dropout\n",
    "    \n",
    "    inputShape = (height, width, depth)   \n",
    "        \n",
    "    visible = Input(inputShape, name='input1')   \n",
    "    \n",
    "    bn0=BatchNormalization(name='BN_input')(visible)    \n",
    "    conv1 = Conv2D(filters=32, kernel_size=3, strides=3, activation='elu', \n",
    "                   kernel_initializer='glorot_normal',padding='same',name='Conv1')(bn0)   \n",
    "    bn1 = BatchNormalization(name='BN_conv1')(conv1)\n",
    "    pool1 = MaxPooling2D(pool_size=(1,2), padding='same', name='pool1')(bn1) \n",
    "    conv2 = Conv2D(filters=128, kernel_size=3, strides=3, activation='elu', \n",
    "                   kernel_initializer='glorot_normal',padding='same', name='Conv2')(pool1)    \n",
    "    bn2 = BatchNormalization(name='BN_conv2')(conv2)\n",
    "    pool2 = MaxPooling2D(pool_size=(1,2), padding='same', name='pool2')(bn2)    \n",
    "    conv3 =  Conv2D(filters=128, kernel_size=3, strides=3, activation='elu', \n",
    "                   kernel_initializer='glorot_normal',padding='same', name='Conv3')(pool2)   \n",
    "    bn3 = BatchNormalization(name='BN_conv3')(conv3)\n",
    "    pool3 = MaxPooling2D(pool_size=(1,2),padding='same', name='pool3')(bn3)\n",
    "    \n",
    "    conv4 =  Conv2D(filters=192, kernel_size=3, strides=3, activation='elu', \n",
    "                   kernel_initializer='glorot_normal', padding='same', name='Conv4')(pool3)\n",
    "    bn4 = BatchNormalization(name='BN_conv4')(conv4)\n",
    "    pool4 = MaxPooling2D(pool_size=(3,5),padding='same', name='pool4')(bn4)\n",
    "    \n",
    "    conv5 =  Conv2D(filters=256, kernel_size=3, strides=3, activation='elu', \n",
    "                   kernel_initializer='glorot_normal', padding='same', name='Conv5')(pool4)\n",
    "    bn5 = BatchNormalization(name='BN_conv5')(conv5)\n",
    "    pool5 = MaxPooling2D(pool_size=(4,4),padding='same', name='pool5')(bn5)\n",
    "           \n",
    "    flat = Flatten(name='Flatten')(pool5)\n",
    "    dropd0=keras.layers.Dropout(dropout, name='Drop_Conv4')(flat)\n",
    "      \n",
    "    \n",
    "    if param.FCLayers ==1:\n",
    "         \n",
    "        hidden1 = Dense(10, activation='relu',kernel_regularizer=regularizers.l2(regparam), name='FC1')(dropd0)\n",
    "        bnd1 = BatchNormalization(name='BN_FC1')(hidden1)   \n",
    "        dropd1 = keras.layers.Dropout(dropout, name='DropOut_FC1')(bnd1)          \n",
    "        outputGenre = Dense(classesGenres, activation=activate, name=\"genreOutput\")(dropd1)\n",
    "        outputValence = Dense(classesValence, activation=activate, name = \"valenceOutput\")(dropd1)\n",
    "    else:\n",
    "         \n",
    "        hidden1 = Dense(300, activation='elu',kernel_regularizer=regularizers.l2(regparam))(dropd0)\n",
    "        bnd1 = BatchNormalization()(hidden1)   \n",
    "        dropd1 = keras.layers.Dropout(dropout)(bnd1)  \n",
    "    \n",
    "        hidden2 = Dense(20, activation='elu',kernel_regularizer=regularizers.l2(regparam))(dropd1)\n",
    "        bnd2 = BatchNormalization()(hidden2)\n",
    "        dropd2 = keras.layers.Dropout(dropout)(bnd2)          \n",
    "        outputGenre = Dense(classesGenres, activation=activate, name=\"genreOutput\")(dropd2)\n",
    "        outputValence = Dense(classesValence, activation=activate, name = \"valenceOutput\")(dropd2)\n",
    "        \n",
    "    modelFunc = Model(inputs=visible, outputs=[outputGenre,outputValence])\n",
    "    \n",
    "    return modelFunc\n"
   ]
  },
  {
   "cell_type": "code",
   "execution_count": 29,
   "metadata": {
    "collapsed": true
   },
   "outputs": [],
   "source": [
    "def build(width, height, depth,classesGenres,classesValence, param,activate=\"softmax\"):\n",
    "\n",
    "    regparam = param.regparam\n",
    "    dropout = param.dropout\n",
    "    \n",
    "    inputShape = (height, width, depth)   \n",
    "        \n",
    "    visible = Input(inputShape, name='input1')   \n",
    "    \n",
    "    bn0=BatchNormalization(name='BN_input')(visible)    \n",
    "    conv1 = Conv2D(filters=64, kernel_size=2, strides=1, activation='relu', \n",
    "                   kernel_initializer='glorot_normal',padding='same',name='Conv1')(bn0)   \n",
    "    bn1 = BatchNormalization(name='BN_conv1')(conv1)\n",
    "    pool1 = MaxPooling2D(pool_size=(2,2), padding='same', name='pool1')(bn1) \n",
    "    conv2 = Conv2D(filters=128, kernel_size=2, strides=1, activation='relu', \n",
    "                   kernel_initializer='glorot_normal',padding='same', name='Conv2')(pool1)    \n",
    "    bn2 = BatchNormalization(name='BN_conv2')(conv2)\n",
    "    pool2 = MaxPooling2D(pool_size=(2,2), padding='same', name='pool2')(bn2)    \n",
    "    conv3 =  Conv2D(filters=256, kernel_size=2, strides=1, activation='relu', \n",
    "                   kernel_initializer='glorot_normal',padding='same', name='Conv3')(pool2)   \n",
    "    bn3 = BatchNormalization(name='BN_conv3')(conv3)\n",
    "    pool3 = MaxPooling2D(pool_size=(2,2),padding='same', name='pool3')(bn3)\n",
    "    \n",
    "    conv4 =  Conv2D(filters=512, kernel_size=2, strides=2, activation='relu', \n",
    "                   kernel_initializer='glorot_normal', padding='same', name='Conv4')(pool3)\n",
    "    bn4 = BatchNormalization(name='BN_conv4')(conv4)\n",
    "    pool4 = MaxPooling2D(pool_size=(2,2),padding='same', name='pool4Max')(bn4)\n",
    "    pool5 = AveragePooling2D(pool_size=(2,2),padding='same', name='pool4Ave')(bn4)\n",
    "    poolave = keras.layers.average([pool4,pool5], name='pool4Combined')\n",
    "       \n",
    "    flat = Flatten(name='Flatten')(poolave)\n",
    "    dropd0=keras.layers.Dropout(dropout, name='Drop_Conv4')(flat)\n",
    "      \n",
    "    \n",
    "    if param.FCLayers ==1:\n",
    "         \n",
    "        hidden1 = Dense(15, activation='relu',kernel_regularizer=regularizers.l2(regparam), name='FC1')(dropd0)\n",
    "        bnd1 = BatchNormalization(name='BN_FC1')(hidden1)   \n",
    "        dropd1 = keras.layers.Dropout(dropout, name='DropOut_FC1')(bnd1)          \n",
    "        outputGenre = Dense(classesGenres, activation=activate, name=\"genreOutput\")(dropd1)\n",
    "        outputValence = Dense(classesValence, activation=activate, name = \"valenceOutput\")(dropd1)\n",
    "    else:\n",
    "         \n",
    "        hidden1 = Dense(300, activation='elu',kernel_regularizer=regularizers.l2(regparam))(dropd0)\n",
    "        bnd1 = BatchNormalization()(hidden1)   \n",
    "        dropd1 = keras.layers.Dropout(dropout)(bnd1)  \n",
    "    \n",
    "        hidden2 = Dense(20, activation='elu',kernel_regularizer=regularizers.l2(regparam))(dropd1)\n",
    "        bnd2 = BatchNormalization()(hidden2)\n",
    "        dropd2 = keras.layers.Dropout(dropout)(bnd2)          \n",
    "        outputGenre = Dense(classesGenres, activation=activate, name=\"genreOutput\")(dropd2)\n",
    "        outputValence = Dense(classesValence, activation=activate, name = \"valenceOutput\")(dropd2)\n",
    "        \n",
    "    modelFunc = Model(inputs=visible, outputs=[outputGenre,outputValence])\n",
    "    \n",
    "    return modelFunc\n"
   ]
  },
  {
   "cell_type": "code",
   "execution_count": 30,
   "metadata": {},
   "outputs": [
    {
     "data": {
      "text/plain": [
       "(4068, 128, 128, 1)"
      ]
     },
     "execution_count": 30,
     "metadata": {},
     "output_type": "execute_result"
    }
   ],
   "source": [
    "trainX.shape"
   ]
  },
  {
   "cell_type": "code",
   "execution_count": 31,
   "metadata": {},
   "outputs": [
    {
     "name": "stdout",
     "output_type": "stream",
     "text": [
      "['Happy' 'Sad' 'moodNeutral']\n",
      "['Electronic' 'Folk' 'Hip-Hop' 'Instrumental' 'Pop' 'Rock']\n"
     ]
    }
   ],
   "source": [
    "'''These are the params I ended up using'''\n",
    "param = Params('params.json')\n",
    "param.dict['LR']=.001\n",
    "param.dict['BatchSize']=150\n",
    "param.dict['regparam']=.001\n",
    "param.dict['dropout'] = .5\n",
    "param.dict['FCLayers']=1\n",
    "EPOCHS = 75\n",
    "print(label_encoder_valence.classes_)\n",
    "print(label_encoder.classes_)"
   ]
  },
  {
   "cell_type": "code",
   "execution_count": 32,
   "metadata": {},
   "outputs": [
    {
     "name": "stdout",
     "output_type": "stream",
     "text": [
      "[INFO] compiling model...\n"
     ]
    }
   ],
   "source": [
    "IMAGE_DIMS = trainX[0].shape\n",
    "\n",
    "INIT_LR = param.LR\n",
    "BS = param.BatchSize\n",
    "\n",
    "print(\"[INFO] compiling model...\")\n",
    "model = build(width=IMAGE_DIMS[1], height=IMAGE_DIMS[0],\n",
    "              depth=IMAGE_DIMS[2], classesGenres = len(label_encoder.classes_), classesValence = len(label_encoder_valence.classes_)\n",
    "              ,param=param, activate=\"softmax\")\n",
    "\n",
    "opt = Adam(lr=param.LR)               \n",
    "              \n",
    "model.compile(loss={'genreOutput': 'categorical_crossentropy', 'valenceOutput': 'categorical_crossentropy'},\n",
    "              loss_weights={'genreOutput': 1, 'valenceOutput': 1.25}, optimizer=opt,\n",
    "                     metrics={'genreOutput':'categorical_accuracy', 'valenceOutput':'categorical_accuracy'})\n",
    "\n",
    "# checkpoint\n",
    "#filepath=\"weights.best.hdf5\"\n",
    "filepath=\"weightsCheckpoint.hdf5\"\n",
    "checkpoint = ModelCheckpoint(filepath, monitor='val_valenceOutput_categorical_accuracy', \n",
    "                             verbose=1, save_best_only=True, mode='max')\n",
    "callbacks_list = [checkpoint]\n"
   ]
  },
  {
   "cell_type": "code",
   "execution_count": 33,
   "metadata": {},
   "outputs": [
    {
     "name": "stdout",
     "output_type": "stream",
     "text": [
      "Train on 4068 samples, validate on 225 samples\n",
      "Epoch 1/75\n",
      "4068/4068 [==============================] - 5s 1ms/step - loss: 3.3040 - genreOutput_loss: 1.7798 - valenceOutput_loss: 1.1913 - genreOutput_categorical_accuracy: 0.3164 - valenceOutput_categorical_accuracy: 0.3847 - val_loss: 3.1089 - val_genreOutput_loss: 1.7061 - val_valenceOutput_loss: 1.0922 - val_genreOutput_categorical_accuracy: 0.3067 - val_valenceOutput_categorical_accuracy: 0.4044\n",
      "\n",
      "Epoch 00001: val_valenceOutput_categorical_accuracy improved from -inf to 0.40444, saving model to weightsCheckpoint.hdf5\n",
      "Epoch 2/75\n",
      "4068/4068 [==============================] - 3s 823us/step - loss: 2.8962 - genreOutput_loss: 1.5143 - valenceOutput_loss: 1.0736 - genreOutput_categorical_accuracy: 0.3970 - valenceOutput_categorical_accuracy: 0.4309 - val_loss: 2.5553 - val_genreOutput_loss: 1.2355 - val_valenceOutput_loss: 1.0223 - val_genreOutput_categorical_accuracy: 0.5511 - val_valenceOutput_categorical_accuracy: 0.4267\n",
      "\n",
      "Epoch 00002: val_valenceOutput_categorical_accuracy improved from 0.40444 to 0.42667, saving model to weightsCheckpoint.hdf5\n",
      "Epoch 3/75\n",
      "4068/4068 [==============================] - 3s 825us/step - loss: 2.7900 - genreOutput_loss: 1.4322 - valenceOutput_loss: 1.0499 - genreOutput_categorical_accuracy: 0.4248 - valenceOutput_categorical_accuracy: 0.4648 - val_loss: 2.5722 - val_genreOutput_loss: 1.2403 - val_valenceOutput_loss: 1.0270 - val_genreOutput_categorical_accuracy: 0.5289 - val_valenceOutput_categorical_accuracy: 0.5067\n",
      "\n",
      "Epoch 00003: val_valenceOutput_categorical_accuracy improved from 0.42667 to 0.50667, saving model to weightsCheckpoint.hdf5\n",
      "Epoch 4/75\n",
      "4068/4068 [==============================] - 3s 824us/step - loss: 2.7373 - genreOutput_loss: 1.3901 - valenceOutput_loss: 1.0368 - genreOutput_categorical_accuracy: 0.4425 - valenceOutput_categorical_accuracy: 0.4634 - val_loss: 2.6464 - val_genreOutput_loss: 1.3168 - val_valenceOutput_loss: 1.0211 - val_genreOutput_categorical_accuracy: 0.4533 - val_valenceOutput_categorical_accuracy: 0.4711\n",
      "\n",
      "Epoch 00004: val_valenceOutput_categorical_accuracy did not improve from 0.50667\n",
      "Epoch 5/75\n",
      "4068/4068 [==============================] - 3s 824us/step - loss: 2.6042 - genreOutput_loss: 1.3030 - valenceOutput_loss: 0.9971 - genreOutput_categorical_accuracy: 0.4909 - valenceOutput_categorical_accuracy: 0.4860 - val_loss: 2.4747 - val_genreOutput_loss: 1.1871 - val_valenceOutput_loss: 0.9855 - val_genreOutput_categorical_accuracy: 0.5467 - val_valenceOutput_categorical_accuracy: 0.5022\n",
      "\n",
      "Epoch 00005: val_valenceOutput_categorical_accuracy did not improve from 0.50667\n",
      "Epoch 6/75\n",
      "4068/4068 [==============================] - 3s 823us/step - loss: 2.5923 - genreOutput_loss: 1.2929 - valenceOutput_loss: 0.9924 - genreOutput_categorical_accuracy: 0.4936 - valenceOutput_categorical_accuracy: 0.4998 - val_loss: 2.5420 - val_genreOutput_loss: 1.2527 - val_valenceOutput_loss: 0.9828 - val_genreOutput_categorical_accuracy: 0.4889 - val_valenceOutput_categorical_accuracy: 0.5156\n",
      "\n",
      "Epoch 00006: val_valenceOutput_categorical_accuracy improved from 0.50667 to 0.51556, saving model to weightsCheckpoint.hdf5\n",
      "Epoch 7/75\n",
      "4068/4068 [==============================] - 3s 825us/step - loss: 2.5003 - genreOutput_loss: 1.2186 - valenceOutput_loss: 0.9760 - genreOutput_categorical_accuracy: 0.5278 - valenceOutput_categorical_accuracy: 0.5128 - val_loss: 2.6579 - val_genreOutput_loss: 1.2914 - val_valenceOutput_loss: 1.0425 - val_genreOutput_categorical_accuracy: 0.4978 - val_valenceOutput_categorical_accuracy: 0.4267\n",
      "\n",
      "Epoch 00007: val_valenceOutput_categorical_accuracy did not improve from 0.51556\n",
      "Epoch 8/75\n",
      "4068/4068 [==============================] - 3s 826us/step - loss: 2.4246 - genreOutput_loss: 1.1473 - valenceOutput_loss: 0.9699 - genreOutput_categorical_accuracy: 0.5627 - valenceOutput_categorical_accuracy: 0.5152 - val_loss: 2.3945 - val_genreOutput_loss: 1.1129 - val_valenceOutput_loss: 0.9726 - val_genreOutput_categorical_accuracy: 0.5822 - val_valenceOutput_categorical_accuracy: 0.4933\n",
      "\n",
      "Epoch 00008: val_valenceOutput_categorical_accuracy did not improve from 0.51556\n",
      "Epoch 9/75\n",
      "4068/4068 [==============================] - 3s 825us/step - loss: 2.3534 - genreOutput_loss: 1.1025 - valenceOutput_loss: 0.9469 - genreOutput_categorical_accuracy: 0.5851 - valenceOutput_categorical_accuracy: 0.5202 - val_loss: 2.4555 - val_genreOutput_loss: 1.1788 - val_valenceOutput_loss: 0.9666 - val_genreOutput_categorical_accuracy: 0.5644 - val_valenceOutput_categorical_accuracy: 0.4933\n",
      "\n",
      "Epoch 00009: val_valenceOutput_categorical_accuracy did not improve from 0.51556\n",
      "Epoch 10/75\n",
      "4068/4068 [==============================] - 3s 828us/step - loss: 2.3285 - genreOutput_loss: 1.0767 - valenceOutput_loss: 0.9449 - genreOutput_categorical_accuracy: 0.5895 - valenceOutput_categorical_accuracy: 0.5278 - val_loss: 2.2244 - val_genreOutput_loss: 0.9797 - val_valenceOutput_loss: 0.9374 - val_genreOutput_categorical_accuracy: 0.6622 - val_valenceOutput_categorical_accuracy: 0.5289\n",
      "\n",
      "Epoch 00010: val_valenceOutput_categorical_accuracy improved from 0.51556 to 0.52889, saving model to weightsCheckpoint.hdf5\n",
      "Epoch 11/75\n",
      "4068/4068 [==============================] - 3s 823us/step - loss: 2.2583 - genreOutput_loss: 1.0242 - valenceOutput_loss: 0.9273 - genreOutput_categorical_accuracy: 0.6192 - valenceOutput_categorical_accuracy: 0.5460 - val_loss: 2.1670 - val_genreOutput_loss: 0.9048 - val_valenceOutput_loss: 0.9489 - val_genreOutput_categorical_accuracy: 0.7156 - val_valenceOutput_categorical_accuracy: 0.4978\n",
      "\n",
      "Epoch 00011: val_valenceOutput_categorical_accuracy did not improve from 0.52889\n",
      "Epoch 12/75\n",
      "4068/4068 [==============================] - 3s 822us/step - loss: 2.1778 - genreOutput_loss: 0.9557 - valenceOutput_loss: 0.9156 - genreOutput_categorical_accuracy: 0.6495 - valenceOutput_categorical_accuracy: 0.5460 - val_loss: 2.3003 - val_genreOutput_loss: 1.0356 - val_valenceOutput_loss: 0.9486 - val_genreOutput_categorical_accuracy: 0.6178 - val_valenceOutput_categorical_accuracy: 0.5511\n",
      "\n",
      "Epoch 00012: val_valenceOutput_categorical_accuracy improved from 0.52889 to 0.55111, saving model to weightsCheckpoint.hdf5\n",
      "Epoch 13/75\n",
      "4068/4068 [==============================] - 3s 824us/step - loss: 2.1610 - genreOutput_loss: 0.9583 - valenceOutput_loss: 0.8970 - genreOutput_categorical_accuracy: 0.6468 - valenceOutput_categorical_accuracy: 0.5656 - val_loss: 2.2941 - val_genreOutput_loss: 0.9858 - val_valenceOutput_loss: 0.9797 - val_genreOutput_categorical_accuracy: 0.6400 - val_valenceOutput_categorical_accuracy: 0.5022\n",
      "\n",
      "Epoch 00013: val_valenceOutput_categorical_accuracy did not improve from 0.55111\n",
      "Epoch 14/75\n",
      "4068/4068 [==============================] - 3s 826us/step - loss: 2.0771 - genreOutput_loss: 0.8930 - valenceOutput_loss: 0.8783 - genreOutput_categorical_accuracy: 0.6706 - valenceOutput_categorical_accuracy: 0.5752 - val_loss: 2.0153 - val_genreOutput_loss: 0.8263 - val_valenceOutput_loss: 0.8806 - val_genreOutput_categorical_accuracy: 0.7156 - val_valenceOutput_categorical_accuracy: 0.5689\n",
      "\n",
      "Epoch 00014: val_valenceOutput_categorical_accuracy improved from 0.55111 to 0.56889, saving model to weightsCheckpoint.hdf5\n",
      "Epoch 15/75\n",
      "4068/4068 [==============================] - 3s 828us/step - loss: 2.0259 - genreOutput_loss: 0.8580 - valenceOutput_loss: 0.8615 - genreOutput_categorical_accuracy: 0.6836 - valenceOutput_categorical_accuracy: 0.5787 - val_loss: 2.2251 - val_genreOutput_loss: 0.9283 - val_valenceOutput_loss: 0.9627 - val_genreOutput_categorical_accuracy: 0.6667 - val_valenceOutput_categorical_accuracy: 0.5022\n",
      "\n",
      "Epoch 00015: val_valenceOutput_categorical_accuracy did not improve from 0.56889\n",
      "Epoch 16/75\n",
      "4068/4068 [==============================] - 3s 825us/step - loss: 1.9572 - genreOutput_loss: 0.8054 - valenceOutput_loss: 0.8451 - genreOutput_categorical_accuracy: 0.7060 - valenceOutput_categorical_accuracy: 0.5961 - val_loss: 2.2465 - val_genreOutput_loss: 1.0204 - val_valenceOutput_loss: 0.9024 - val_genreOutput_categorical_accuracy: 0.6444 - val_valenceOutput_categorical_accuracy: 0.5289\n",
      "\n",
      "Epoch 00016: val_valenceOutput_categorical_accuracy did not improve from 0.56889\n",
      "Epoch 17/75\n"
     ]
    },
    {
     "name": "stdout",
     "output_type": "stream",
     "text": [
      "4068/4068 [==============================] - 3s 824us/step - loss: 1.9068 - genreOutput_loss: 0.7904 - valenceOutput_loss: 0.8122 - genreOutput_categorical_accuracy: 0.7077 - valenceOutput_categorical_accuracy: 0.6187 - val_loss: 2.5020 - val_genreOutput_loss: 1.1669 - val_valenceOutput_loss: 0.9849 - val_genreOutput_categorical_accuracy: 0.6044 - val_valenceOutput_categorical_accuracy: 0.5067\n",
      "\n",
      "Epoch 00017: val_valenceOutput_categorical_accuracy did not improve from 0.56889\n",
      "Epoch 18/75\n",
      "4068/4068 [==============================] - 3s 821us/step - loss: 1.8105 - genreOutput_loss: 0.7340 - valenceOutput_loss: 0.7759 - genreOutput_categorical_accuracy: 0.7296 - valenceOutput_categorical_accuracy: 0.6426 - val_loss: 1.9711 - val_genreOutput_loss: 0.8401 - val_valenceOutput_loss: 0.8177 - val_genreOutput_categorical_accuracy: 0.7200 - val_valenceOutput_categorical_accuracy: 0.5556\n",
      "\n",
      "Epoch 00018: val_valenceOutput_categorical_accuracy did not improve from 0.56889\n",
      "Epoch 19/75\n",
      "4068/4068 [==============================] - 3s 825us/step - loss: 1.8040 - genreOutput_loss: 0.7341 - valenceOutput_loss: 0.7659 - genreOutput_categorical_accuracy: 0.7252 - valenceOutput_categorical_accuracy: 0.6399 - val_loss: 2.1859 - val_genreOutput_loss: 0.8947 - val_valenceOutput_loss: 0.9388 - val_genreOutput_categorical_accuracy: 0.6933 - val_valenceOutput_categorical_accuracy: 0.5556\n",
      "\n",
      "Epoch 00019: val_valenceOutput_categorical_accuracy did not improve from 0.56889\n",
      "Epoch 20/75\n",
      "4068/4068 [==============================] - 3s 825us/step - loss: 1.7323 - genreOutput_loss: 0.6664 - valenceOutput_loss: 0.7566 - genreOutput_categorical_accuracy: 0.7542 - valenceOutput_categorical_accuracy: 0.6443 - val_loss: 1.8341 - val_genreOutput_loss: 0.6813 - val_valenceOutput_loss: 0.8244 - val_genreOutput_categorical_accuracy: 0.7600 - val_valenceOutput_categorical_accuracy: 0.6356\n",
      "\n",
      "Epoch 00020: val_valenceOutput_categorical_accuracy improved from 0.56889 to 0.63556, saving model to weightsCheckpoint.hdf5\n",
      "Epoch 21/75\n",
      "4068/4068 [==============================] - 3s 823us/step - loss: 1.8879 - genreOutput_loss: 0.7864 - valenceOutput_loss: 0.7778 - genreOutput_categorical_accuracy: 0.7048 - valenceOutput_categorical_accuracy: 0.6391 - val_loss: 2.2087 - val_genreOutput_loss: 0.8862 - val_valenceOutput_loss: 0.9506 - val_genreOutput_categorical_accuracy: 0.6800 - val_valenceOutput_categorical_accuracy: 0.5289\n",
      "\n",
      "Epoch 00021: val_valenceOutput_categorical_accuracy did not improve from 0.63556\n",
      "Epoch 22/75\n",
      "4068/4068 [==============================] - 3s 829us/step - loss: 1.8217 - genreOutput_loss: 0.7371 - valenceOutput_loss: 0.7554 - genreOutput_categorical_accuracy: 0.7203 - valenceOutput_categorical_accuracy: 0.6586 - val_loss: 1.8885 - val_genreOutput_loss: 0.7539 - val_valenceOutput_loss: 0.7937 - val_genreOutput_categorical_accuracy: 0.7556 - val_valenceOutput_categorical_accuracy: 0.6311\n",
      "\n",
      "Epoch 00022: val_valenceOutput_categorical_accuracy did not improve from 0.63556\n",
      "Epoch 23/75\n",
      "4068/4068 [==============================] - 3s 825us/step - loss: 1.6099 - genreOutput_loss: 0.6248 - valenceOutput_loss: 0.6733 - genreOutput_categorical_accuracy: 0.7687 - valenceOutput_categorical_accuracy: 0.6908 - val_loss: 1.8683 - val_genreOutput_loss: 0.7449 - val_valenceOutput_loss: 0.7832 - val_genreOutput_categorical_accuracy: 0.7333 - val_valenceOutput_categorical_accuracy: 0.6400\n",
      "\n",
      "Epoch 00023: val_valenceOutput_categorical_accuracy improved from 0.63556 to 0.64000, saving model to weightsCheckpoint.hdf5\n",
      "Epoch 24/75\n",
      "4068/4068 [==============================] - 3s 826us/step - loss: 1.5719 - genreOutput_loss: 0.5914 - valenceOutput_loss: 0.6671 - genreOutput_categorical_accuracy: 0.7834 - valenceOutput_categorical_accuracy: 0.7021 - val_loss: 1.7384 - val_genreOutput_loss: 0.6071 - val_valenceOutput_loss: 0.7868 - val_genreOutput_categorical_accuracy: 0.7956 - val_valenceOutput_categorical_accuracy: 0.6044\n",
      "\n",
      "Epoch 00024: val_valenceOutput_categorical_accuracy did not improve from 0.64000\n",
      "Epoch 25/75\n",
      "4068/4068 [==============================] - 3s 827us/step - loss: 1.5790 - genreOutput_loss: 0.6257 - valenceOutput_loss: 0.6410 - genreOutput_categorical_accuracy: 0.7724 - valenceOutput_categorical_accuracy: 0.7082 - val_loss: 1.6867 - val_genreOutput_loss: 0.5838 - val_valenceOutput_loss: 0.7592 - val_genreOutput_categorical_accuracy: 0.8267 - val_valenceOutput_categorical_accuracy: 0.6533\n",
      "\n",
      "Epoch 00025: val_valenceOutput_categorical_accuracy improved from 0.64000 to 0.65333, saving model to weightsCheckpoint.hdf5\n",
      "Epoch 26/75\n",
      "4068/4068 [==============================] - 3s 826us/step - loss: 1.4866 - genreOutput_loss: 0.5675 - valenceOutput_loss: 0.6110 - genreOutput_categorical_accuracy: 0.7915 - valenceOutput_categorical_accuracy: 0.7343 - val_loss: 1.6831 - val_genreOutput_loss: 0.6428 - val_valenceOutput_loss: 0.7073 - val_genreOutput_categorical_accuracy: 0.7822 - val_valenceOutput_categorical_accuracy: 0.6933\n",
      "\n",
      "Epoch 00026: val_valenceOutput_categorical_accuracy improved from 0.65333 to 0.69333, saving model to weightsCheckpoint.hdf5\n",
      "Epoch 27/75\n",
      "4068/4068 [==============================] - 3s 830us/step - loss: 1.3865 - genreOutput_loss: 0.5176 - valenceOutput_loss: 0.5692 - genreOutput_categorical_accuracy: 0.8051 - valenceOutput_categorical_accuracy: 0.7542 - val_loss: 1.6644 - val_genreOutput_loss: 0.6233 - val_valenceOutput_loss: 0.7066 - val_genreOutput_categorical_accuracy: 0.7867 - val_valenceOutput_categorical_accuracy: 0.6933\n",
      "\n",
      "Epoch 00027: val_valenceOutput_categorical_accuracy did not improve from 0.69333\n",
      "Epoch 28/75\n",
      "4068/4068 [==============================] - 3s 823us/step - loss: 1.3566 - genreOutput_loss: 0.4954 - valenceOutput_loss: 0.5612 - genreOutput_categorical_accuracy: 0.8122 - valenceOutput_categorical_accuracy: 0.7510 - val_loss: 1.6088 - val_genreOutput_loss: 0.5781 - val_valenceOutput_loss: 0.6960 - val_genreOutput_categorical_accuracy: 0.8356 - val_valenceOutput_categorical_accuracy: 0.6933\n",
      "\n",
      "Epoch 00028: val_valenceOutput_categorical_accuracy did not improve from 0.69333\n",
      "Epoch 29/75\n",
      "4068/4068 [==============================] - 3s 825us/step - loss: 1.3567 - genreOutput_loss: 0.5044 - valenceOutput_loss: 0.5521 - genreOutput_categorical_accuracy: 0.8043 - valenceOutput_categorical_accuracy: 0.7515 - val_loss: 1.7466 - val_genreOutput_loss: 0.6518 - val_valenceOutput_loss: 0.7454 - val_genreOutput_categorical_accuracy: 0.7556 - val_valenceOutput_categorical_accuracy: 0.6578\n",
      "\n",
      "Epoch 00029: val_valenceOutput_categorical_accuracy did not improve from 0.69333\n",
      "Epoch 30/75\n",
      "4068/4068 [==============================] - 3s 826us/step - loss: 1.2433 - genreOutput_loss: 0.4688 - valenceOutput_loss: 0.4885 - genreOutput_categorical_accuracy: 0.8252 - valenceOutput_categorical_accuracy: 0.7871 - val_loss: 1.5792 - val_genreOutput_loss: 0.5079 - val_valenceOutput_loss: 0.7256 - val_genreOutput_categorical_accuracy: 0.8400 - val_valenceOutput_categorical_accuracy: 0.6622\n",
      "\n",
      "Epoch 00030: val_valenceOutput_categorical_accuracy did not improve from 0.69333\n",
      "Epoch 31/75\n",
      "4068/4068 [==============================] - 3s 829us/step - loss: 1.1936 - genreOutput_loss: 0.4538 - valenceOutput_loss: 0.4600 - genreOutput_categorical_accuracy: 0.8213 - valenceOutput_categorical_accuracy: 0.7992 - val_loss: 1.5932 - val_genreOutput_loss: 0.5196 - val_valenceOutput_loss: 0.7262 - val_genreOutput_categorical_accuracy: 0.8444 - val_valenceOutput_categorical_accuracy: 0.7022\n",
      "\n",
      "Epoch 00031: val_valenceOutput_categorical_accuracy improved from 0.69333 to 0.70222, saving model to weightsCheckpoint.hdf5\n",
      "Epoch 32/75\n",
      "4068/4068 [==============================] - 3s 825us/step - loss: 1.2077 - genreOutput_loss: 0.4576 - valenceOutput_loss: 0.4660 - genreOutput_categorical_accuracy: 0.8230 - valenceOutput_categorical_accuracy: 0.8019 - val_loss: 1.6922 - val_genreOutput_loss: 0.5344 - val_valenceOutput_loss: 0.7910 - val_genreOutput_categorical_accuracy: 0.8267 - val_valenceOutput_categorical_accuracy: 0.6489\n",
      "\n",
      "Epoch 00032: val_valenceOutput_categorical_accuracy did not improve from 0.70222\n",
      "Epoch 33/75\n",
      "4068/4068 [==============================] - 3s 825us/step - loss: 1.2036 - genreOutput_loss: 0.4683 - valenceOutput_loss: 0.4514 - genreOutput_categorical_accuracy: 0.8105 - valenceOutput_categorical_accuracy: 0.8014 - val_loss: 1.6076 - val_genreOutput_loss: 0.4592 - val_valenceOutput_loss: 0.7810 - val_genreOutput_categorical_accuracy: 0.8667 - val_valenceOutput_categorical_accuracy: 0.6267\n",
      "\n",
      "Epoch 00033: val_valenceOutput_categorical_accuracy did not improve from 0.70222\n",
      "Epoch 34/75\n",
      "4068/4068 [==============================] - 3s 821us/step - loss: 1.1175 - genreOutput_loss: 0.4226 - valenceOutput_loss: 0.4176 - genreOutput_categorical_accuracy: 0.8311 - valenceOutput_categorical_accuracy: 0.8247 - val_loss: 1.3946 - val_genreOutput_loss: 0.4753 - val_valenceOutput_loss: 0.5967 - val_genreOutput_categorical_accuracy: 0.8444 - val_valenceOutput_categorical_accuracy: 0.7556\n",
      "\n",
      "Epoch 00034: val_valenceOutput_categorical_accuracy improved from 0.70222 to 0.75556, saving model to weightsCheckpoint.hdf5\n",
      "Epoch 35/75\n",
      "4068/4068 [==============================] - 3s 822us/step - loss: 1.0858 - genreOutput_loss: 0.4221 - valenceOutput_loss: 0.3917 - genreOutput_categorical_accuracy: 0.8328 - valenceOutput_categorical_accuracy: 0.8304 - val_loss: 1.5156 - val_genreOutput_loss: 0.4470 - val_valenceOutput_loss: 0.7152 - val_genreOutput_categorical_accuracy: 0.8533 - val_valenceOutput_categorical_accuracy: 0.6844\n",
      "\n",
      "Epoch 00035: val_valenceOutput_categorical_accuracy did not improve from 0.75556\n",
      "Epoch 36/75\n",
      "4068/4068 [==============================] - 3s 822us/step - loss: 1.1027 - genreOutput_loss: 0.4485 - valenceOutput_loss: 0.3816 - genreOutput_categorical_accuracy: 0.8201 - valenceOutput_categorical_accuracy: 0.8306 - val_loss: 1.5167 - val_genreOutput_loss: 0.4676 - val_valenceOutput_loss: 0.6968 - val_genreOutput_categorical_accuracy: 0.8667 - val_valenceOutput_categorical_accuracy: 0.7422\n",
      "\n",
      "Epoch 00036: val_valenceOutput_categorical_accuracy did not improve from 0.75556\n",
      "Epoch 37/75\n",
      "4068/4068 [==============================] - 3s 822us/step - loss: 1.1408 - genreOutput_loss: 0.4544 - valenceOutput_loss: 0.4031 - genreOutput_categorical_accuracy: 0.8203 - valenceOutput_categorical_accuracy: 0.8220 - val_loss: 1.7808 - val_genreOutput_loss: 0.6274 - val_valenceOutput_loss: 0.7755 - val_genreOutput_categorical_accuracy: 0.7911 - val_valenceOutput_categorical_accuracy: 0.6711\n",
      "\n",
      "Epoch 00037: val_valenceOutput_categorical_accuracy did not improve from 0.75556\n",
      "Epoch 38/75\n",
      "4068/4068 [==============================] - 3s 821us/step - loss: 1.7856 - genreOutput_loss: 0.7112 - valenceOutput_loss: 0.6965 - genreOutput_categorical_accuracy: 0.7353 - valenceOutput_categorical_accuracy: 0.7198 - val_loss: 1.7312 - val_genreOutput_loss: 0.6785 - val_valenceOutput_loss: 0.6715 - val_genreOutput_categorical_accuracy: 0.7689 - val_valenceOutput_categorical_accuracy: 0.7111\n",
      "\n",
      "Epoch 00038: val_valenceOutput_categorical_accuracy did not improve from 0.75556\n",
      "Epoch 39/75\n",
      "4068/4068 [==============================] - 3s 821us/step - loss: 1.3757 - genreOutput_loss: 0.5419 - valenceOutput_loss: 0.4932 - genreOutput_categorical_accuracy: 0.7913 - valenceOutput_categorical_accuracy: 0.7800 - val_loss: 1.8046 - val_genreOutput_loss: 0.5202 - val_valenceOutput_loss: 0.8527 - val_genreOutput_categorical_accuracy: 0.8533 - val_valenceOutput_categorical_accuracy: 0.6444\n",
      "\n",
      "Epoch 00039: val_valenceOutput_categorical_accuracy did not improve from 0.75556\n",
      "Epoch 40/75\n",
      "4068/4068 [==============================] - 3s 823us/step - loss: 1.2243 - genreOutput_loss: 0.4636 - valenceOutput_loss: 0.4327 - genreOutput_categorical_accuracy: 0.8262 - valenceOutput_categorical_accuracy: 0.8115 - val_loss: 1.6676 - val_genreOutput_loss: 0.5545 - val_valenceOutput_loss: 0.7150 - val_genreOutput_categorical_accuracy: 0.8222 - val_valenceOutput_categorical_accuracy: 0.6711\n",
      "\n",
      "Epoch 00040: val_valenceOutput_categorical_accuracy did not improve from 0.75556\n",
      "Epoch 41/75\n",
      "4068/4068 [==============================] - 3s 823us/step - loss: 1.2780 - genreOutput_loss: 0.4969 - valenceOutput_loss: 0.4467 - genreOutput_categorical_accuracy: 0.8038 - valenceOutput_categorical_accuracy: 0.8031 - val_loss: 1.6362 - val_genreOutput_loss: 0.5872 - val_valenceOutput_loss: 0.6604 - val_genreOutput_categorical_accuracy: 0.8000 - val_valenceOutput_categorical_accuracy: 0.7244\n",
      "\n",
      "Epoch 00041: val_valenceOutput_categorical_accuracy did not improve from 0.75556\n",
      "Epoch 42/75\n",
      "4068/4068 [==============================] - 3s 824us/step - loss: 1.0673 - genreOutput_loss: 0.3883 - valenceOutput_loss: 0.3654 - genreOutput_categorical_accuracy: 0.8469 - valenceOutput_categorical_accuracy: 0.8454 - val_loss: 1.4327 - val_genreOutput_loss: 0.4654 - val_valenceOutput_loss: 0.5975 - val_genreOutput_categorical_accuracy: 0.8533 - val_valenceOutput_categorical_accuracy: 0.7600\n",
      "\n",
      "Epoch 00042: val_valenceOutput_categorical_accuracy improved from 0.75556 to 0.76000, saving model to weightsCheckpoint.hdf5\n",
      "Epoch 43/75\n",
      "4068/4068 [==============================] - 3s 823us/step - loss: 1.0231 - genreOutput_loss: 0.3579 - valenceOutput_loss: 0.3556 - genreOutput_categorical_accuracy: 0.8611 - valenceOutput_categorical_accuracy: 0.8473 - val_loss: 1.5402 - val_genreOutput_loss: 0.4782 - val_valenceOutput_loss: 0.6743 - val_genreOutput_categorical_accuracy: 0.8711 - val_valenceOutput_categorical_accuracy: 0.7111\n",
      "\n",
      "Epoch 00043: val_valenceOutput_categorical_accuracy did not improve from 0.76000\n",
      "Epoch 44/75\n",
      "4068/4068 [==============================] - 3s 824us/step - loss: 0.9643 - genreOutput_loss: 0.3540 - valenceOutput_loss: 0.3136 - genreOutput_categorical_accuracy: 0.8579 - valenceOutput_categorical_accuracy: 0.8623 - val_loss: 1.5540 - val_genreOutput_loss: 0.4479 - val_valenceOutput_loss: 0.7114 - val_genreOutput_categorical_accuracy: 0.8533 - val_valenceOutput_categorical_accuracy: 0.7378\n",
      "\n",
      "Epoch 00044: val_valenceOutput_categorical_accuracy did not improve from 0.76000\n",
      "Epoch 45/75\n",
      "4068/4068 [==============================] - 3s 821us/step - loss: 0.9397 - genreOutput_loss: 0.3385 - valenceOutput_loss: 0.3086 - genreOutput_categorical_accuracy: 0.8695 - valenceOutput_categorical_accuracy: 0.8616 - val_loss: 1.4364 - val_genreOutput_loss: 0.4606 - val_valenceOutput_loss: 0.6094 - val_genreOutput_categorical_accuracy: 0.8578 - val_valenceOutput_categorical_accuracy: 0.7067\n",
      "\n",
      "Epoch 00045: val_valenceOutput_categorical_accuracy did not improve from 0.76000\n",
      "Epoch 46/75\n",
      "4068/4068 [==============================] - 3s 824us/step - loss: 1.0346 - genreOutput_loss: 0.3846 - valenceOutput_loss: 0.3467 - genreOutput_categorical_accuracy: 0.8486 - valenceOutput_categorical_accuracy: 0.8520 - val_loss: 1.5603 - val_genreOutput_loss: 0.4816 - val_valenceOutput_loss: 0.6892 - val_genreOutput_categorical_accuracy: 0.8622 - val_valenceOutput_categorical_accuracy: 0.7244\n",
      "\n",
      "Epoch 00046: val_valenceOutput_categorical_accuracy did not improve from 0.76000\n",
      "Epoch 47/75\n",
      "4068/4068 [==============================] - 3s 833us/step - loss: 0.9373 - genreOutput_loss: 0.3498 - valenceOutput_loss: 0.2962 - genreOutput_categorical_accuracy: 0.8623 - valenceOutput_categorical_accuracy: 0.8707 - val_loss: 1.4853 - val_genreOutput_loss: 0.5037 - val_valenceOutput_loss: 0.6127 - val_genreOutput_categorical_accuracy: 0.8444 - val_valenceOutput_categorical_accuracy: 0.7200\n",
      "\n",
      "Epoch 00047: val_valenceOutput_categorical_accuracy did not improve from 0.76000\n",
      "Epoch 48/75\n",
      "4068/4068 [==============================] - 3s 824us/step - loss: 0.9302 - genreOutput_loss: 0.3412 - valenceOutput_loss: 0.2988 - genreOutput_categorical_accuracy: 0.8665 - valenceOutput_categorical_accuracy: 0.8719 - val_loss: 1.6227 - val_genreOutput_loss: 0.4846 - val_valenceOutput_loss: 0.7386 - val_genreOutput_categorical_accuracy: 0.8489 - val_valenceOutput_categorical_accuracy: 0.7111\n",
      "\n",
      "Epoch 00048: val_valenceOutput_categorical_accuracy did not improve from 0.76000\n",
      "Epoch 49/75\n",
      "4068/4068 [==============================] - 3s 827us/step - loss: 0.8998 - genreOutput_loss: 0.3403 - valenceOutput_loss: 0.2761 - genreOutput_categorical_accuracy: 0.8633 - valenceOutput_categorical_accuracy: 0.8776 - val_loss: 1.3988 - val_genreOutput_loss: 0.4917 - val_valenceOutput_loss: 0.5553 - val_genreOutput_categorical_accuracy: 0.8533 - val_valenceOutput_categorical_accuracy: 0.7911\n"
     ]
    },
    {
     "name": "stdout",
     "output_type": "stream",
     "text": [
      "\n",
      "Epoch 00049: val_valenceOutput_categorical_accuracy improved from 0.76000 to 0.79111, saving model to weightsCheckpoint.hdf5\n",
      "Epoch 50/75\n",
      "4068/4068 [==============================] - 3s 824us/step - loss: 0.9036 - genreOutput_loss: 0.3355 - valenceOutput_loss: 0.2832 - genreOutput_categorical_accuracy: 0.8680 - valenceOutput_categorical_accuracy: 0.8741 - val_loss: 1.4433 - val_genreOutput_loss: 0.5186 - val_valenceOutput_loss: 0.5691 - val_genreOutput_categorical_accuracy: 0.8311 - val_valenceOutput_categorical_accuracy: 0.7556\n",
      "\n",
      "Epoch 00050: val_valenceOutput_categorical_accuracy did not improve from 0.79111\n",
      "Epoch 51/75\n",
      "4068/4068 [==============================] - 3s 824us/step - loss: 0.9711 - genreOutput_loss: 0.3742 - valenceOutput_loss: 0.3031 - genreOutput_categorical_accuracy: 0.8488 - valenceOutput_categorical_accuracy: 0.8702 - val_loss: 1.4791 - val_genreOutput_loss: 0.4761 - val_valenceOutput_loss: 0.6277 - val_genreOutput_categorical_accuracy: 0.8311 - val_valenceOutput_categorical_accuracy: 0.7778\n",
      "\n",
      "Epoch 00051: val_valenceOutput_categorical_accuracy did not improve from 0.79111\n",
      "Epoch 52/75\n",
      "4068/4068 [==============================] - 3s 824us/step - loss: 0.9190 - genreOutput_loss: 0.3189 - valenceOutput_loss: 0.3043 - genreOutput_categorical_accuracy: 0.8697 - valenceOutput_categorical_accuracy: 0.8584 - val_loss: 1.6128 - val_genreOutput_loss: 0.6283 - val_valenceOutput_loss: 0.6123 - val_genreOutput_categorical_accuracy: 0.8356 - val_valenceOutput_categorical_accuracy: 0.7644\n",
      "\n",
      "Epoch 00052: val_valenceOutput_categorical_accuracy did not improve from 0.79111\n",
      "Epoch 53/75\n",
      "4068/4068 [==============================] - 3s 822us/step - loss: 0.8808 - genreOutput_loss: 0.3264 - valenceOutput_loss: 0.2680 - genreOutput_categorical_accuracy: 0.8680 - valenceOutput_categorical_accuracy: 0.8862 - val_loss: 1.6519 - val_genreOutput_loss: 0.5401 - val_valenceOutput_loss: 0.7148 - val_genreOutput_categorical_accuracy: 0.8444 - val_valenceOutput_categorical_accuracy: 0.7200\n",
      "\n",
      "Epoch 00053: val_valenceOutput_categorical_accuracy did not improve from 0.79111\n",
      "Epoch 54/75\n",
      "4068/4068 [==============================] - 3s 822us/step - loss: 0.8936 - genreOutput_loss: 0.3354 - valenceOutput_loss: 0.2713 - genreOutput_categorical_accuracy: 0.8677 - valenceOutput_categorical_accuracy: 0.8768 - val_loss: 1.5161 - val_genreOutput_loss: 0.5217 - val_valenceOutput_loss: 0.6208 - val_genreOutput_categorical_accuracy: 0.8311 - val_valenceOutput_categorical_accuracy: 0.7644\n",
      "\n",
      "Epoch 00054: val_valenceOutput_categorical_accuracy did not improve from 0.79111\n",
      "Epoch 55/75\n",
      "4068/4068 [==============================] - 3s 822us/step - loss: 0.9100 - genreOutput_loss: 0.3525 - valenceOutput_loss: 0.2695 - genreOutput_categorical_accuracy: 0.8601 - valenceOutput_categorical_accuracy: 0.8827 - val_loss: 1.5707 - val_genreOutput_loss: 0.6002 - val_valenceOutput_loss: 0.5994 - val_genreOutput_categorical_accuracy: 0.8533 - val_valenceOutput_categorical_accuracy: 0.7733\n",
      "\n",
      "Epoch 00055: val_valenceOutput_categorical_accuracy did not improve from 0.79111\n",
      "Epoch 56/75\n",
      "4068/4068 [==============================] - 3s 823us/step - loss: 0.8679 - genreOutput_loss: 0.3301 - valenceOutput_loss: 0.2527 - genreOutput_categorical_accuracy: 0.8670 - valenceOutput_categorical_accuracy: 0.8926 - val_loss: 1.4314 - val_genreOutput_loss: 0.5045 - val_valenceOutput_loss: 0.5646 - val_genreOutput_categorical_accuracy: 0.8533 - val_valenceOutput_categorical_accuracy: 0.7956\n",
      "\n",
      "Epoch 00056: val_valenceOutput_categorical_accuracy improved from 0.79111 to 0.79556, saving model to weightsCheckpoint.hdf5\n",
      "Epoch 57/75\n",
      "4068/4068 [==============================] - 3s 822us/step - loss: 0.8840 - genreOutput_loss: 0.3341 - valenceOutput_loss: 0.2623 - genreOutput_categorical_accuracy: 0.8618 - valenceOutput_categorical_accuracy: 0.8845 - val_loss: 1.7884 - val_genreOutput_loss: 0.6267 - val_valenceOutput_loss: 0.7521 - val_genreOutput_categorical_accuracy: 0.8000 - val_valenceOutput_categorical_accuracy: 0.7244\n",
      "\n",
      "Epoch 00057: val_valenceOutput_categorical_accuracy did not improve from 0.79556\n",
      "Epoch 58/75\n",
      "4068/4068 [==============================] - 3s 834us/step - loss: 0.9479 - genreOutput_loss: 0.3660 - valenceOutput_loss: 0.2861 - genreOutput_categorical_accuracy: 0.8528 - valenceOutput_categorical_accuracy: 0.8736 - val_loss: 1.8687 - val_genreOutput_loss: 0.6610 - val_valenceOutput_loss: 0.7866 - val_genreOutput_categorical_accuracy: 0.8000 - val_valenceOutput_categorical_accuracy: 0.6844\n",
      "\n",
      "Epoch 00058: val_valenceOutput_categorical_accuracy did not improve from 0.79556\n",
      "Epoch 59/75\n",
      "4068/4068 [==============================] - 3s 824us/step - loss: 0.9897 - genreOutput_loss: 0.3912 - valenceOutput_loss: 0.2944 - genreOutput_categorical_accuracy: 0.8449 - valenceOutput_categorical_accuracy: 0.8712 - val_loss: 1.5268 - val_genreOutput_loss: 0.5251 - val_valenceOutput_loss: 0.6163 - val_genreOutput_categorical_accuracy: 0.8178 - val_valenceOutput_categorical_accuracy: 0.7644\n",
      "\n",
      "Epoch 00059: val_valenceOutput_categorical_accuracy did not improve from 0.79556\n",
      "Epoch 60/75\n",
      "4068/4068 [==============================] - 3s 823us/step - loss: 0.8935 - genreOutput_loss: 0.3402 - valenceOutput_loss: 0.2573 - genreOutput_categorical_accuracy: 0.8636 - valenceOutput_categorical_accuracy: 0.8847 - val_loss: 1.5375 - val_genreOutput_loss: 0.5401 - val_valenceOutput_loss: 0.6130 - val_genreOutput_categorical_accuracy: 0.8400 - val_valenceOutput_categorical_accuracy: 0.7600\n",
      "\n",
      "Epoch 00060: val_valenceOutput_categorical_accuracy did not improve from 0.79556\n",
      "Epoch 61/75\n",
      "4068/4068 [==============================] - 3s 824us/step - loss: 0.8394 - genreOutput_loss: 0.3189 - valenceOutput_loss: 0.2317 - genreOutput_categorical_accuracy: 0.8673 - valenceOutput_categorical_accuracy: 0.9012 - val_loss: 1.4561 - val_genreOutput_loss: 0.4369 - val_valenceOutput_loss: 0.6317 - val_genreOutput_categorical_accuracy: 0.8622 - val_valenceOutput_categorical_accuracy: 0.8000\n",
      "\n",
      "Epoch 00061: val_valenceOutput_categorical_accuracy improved from 0.79556 to 0.80000, saving model to weightsCheckpoint.hdf5\n",
      "Epoch 62/75\n",
      "4068/4068 [==============================] - 3s 823us/step - loss: 0.8513 - genreOutput_loss: 0.3267 - valenceOutput_loss: 0.2356 - genreOutput_categorical_accuracy: 0.8680 - valenceOutput_categorical_accuracy: 0.8906 - val_loss: 1.4222 - val_genreOutput_loss: 0.4068 - val_valenceOutput_loss: 0.6290 - val_genreOutput_categorical_accuracy: 0.8667 - val_valenceOutput_categorical_accuracy: 0.7911\n",
      "\n",
      "Epoch 00062: val_valenceOutput_categorical_accuracy did not improve from 0.80000\n",
      "Epoch 63/75\n",
      "4068/4068 [==============================] - 3s 822us/step - loss: 0.8251 - genreOutput_loss: 0.3141 - valenceOutput_loss: 0.2247 - genreOutput_categorical_accuracy: 0.8714 - valenceOutput_categorical_accuracy: 0.8997 - val_loss: 1.7609 - val_genreOutput_loss: 0.5093 - val_valenceOutput_loss: 0.8177 - val_genreOutput_categorical_accuracy: 0.8533 - val_valenceOutput_categorical_accuracy: 0.7111\n",
      "\n",
      "Epoch 00063: val_valenceOutput_categorical_accuracy did not improve from 0.80000\n",
      "Epoch 64/75\n",
      "4068/4068 [==============================] - 3s 824us/step - loss: 0.9548 - genreOutput_loss: 0.3450 - valenceOutput_loss: 0.3003 - genreOutput_categorical_accuracy: 0.8650 - valenceOutput_categorical_accuracy: 0.8670 - val_loss: 1.9369 - val_genreOutput_loss: 0.6592 - val_valenceOutput_loss: 0.8336 - val_genreOutput_categorical_accuracy: 0.8000 - val_valenceOutput_categorical_accuracy: 0.7200\n",
      "\n",
      "Epoch 00064: val_valenceOutput_categorical_accuracy did not improve from 0.80000\n",
      "Epoch 65/75\n",
      "4068/4068 [==============================] - 3s 822us/step - loss: 0.9073 - genreOutput_loss: 0.3387 - valenceOutput_loss: 0.2638 - genreOutput_categorical_accuracy: 0.8606 - valenceOutput_categorical_accuracy: 0.8869 - val_loss: 1.5362 - val_genreOutput_loss: 0.5865 - val_valenceOutput_loss: 0.5690 - val_genreOutput_categorical_accuracy: 0.8400 - val_valenceOutput_categorical_accuracy: 0.7956\n",
      "\n",
      "Epoch 00065: val_valenceOutput_categorical_accuracy did not improve from 0.80000\n",
      "Epoch 66/75\n",
      "4068/4068 [==============================] - 3s 822us/step - loss: 0.9024 - genreOutput_loss: 0.3433 - valenceOutput_loss: 0.2540 - genreOutput_categorical_accuracy: 0.8655 - valenceOutput_categorical_accuracy: 0.8953 - val_loss: 1.4847 - val_genreOutput_loss: 0.5312 - val_valenceOutput_loss: 0.5702 - val_genreOutput_categorical_accuracy: 0.8311 - val_valenceOutput_categorical_accuracy: 0.8000\n",
      "\n",
      "Epoch 00066: val_valenceOutput_categorical_accuracy did not improve from 0.80000\n",
      "Epoch 67/75\n",
      "4068/4068 [==============================] - 3s 824us/step - loss: 0.8208 - genreOutput_loss: 0.3024 - valenceOutput_loss: 0.2234 - genreOutput_categorical_accuracy: 0.8746 - valenceOutput_categorical_accuracy: 0.8958 - val_loss: 1.6259 - val_genreOutput_loss: 0.4983 - val_valenceOutput_loss: 0.7126 - val_genreOutput_categorical_accuracy: 0.8578 - val_valenceOutput_categorical_accuracy: 0.7644\n",
      "\n",
      "Epoch 00067: val_valenceOutput_categorical_accuracy did not improve from 0.80000\n",
      "Epoch 68/75\n",
      "4068/4068 [==============================] - 3s 822us/step - loss: 0.7871 - genreOutput_loss: 0.2741 - valenceOutput_loss: 0.2225 - genreOutput_categorical_accuracy: 0.8845 - valenceOutput_categorical_accuracy: 0.8958 - val_loss: 1.3433 - val_genreOutput_loss: 0.4272 - val_valenceOutput_loss: 0.5470 - val_genreOutput_categorical_accuracy: 0.8800 - val_valenceOutput_categorical_accuracy: 0.8000\n",
      "\n",
      "Epoch 00068: val_valenceOutput_categorical_accuracy did not improve from 0.80000\n",
      "Epoch 69/75\n",
      "4068/4068 [==============================] - 3s 823us/step - loss: 0.8375 - genreOutput_loss: 0.3058 - valenceOutput_loss: 0.2378 - genreOutput_categorical_accuracy: 0.8786 - valenceOutput_categorical_accuracy: 0.8867 - val_loss: 1.5923 - val_genreOutput_loss: 0.4921 - val_valenceOutput_loss: 0.6931 - val_genreOutput_categorical_accuracy: 0.8533 - val_valenceOutput_categorical_accuracy: 0.7378\n",
      "\n",
      "Epoch 00069: val_valenceOutput_categorical_accuracy did not improve from 0.80000\n",
      "Epoch 70/75\n",
      "4068/4068 [==============================] - 3s 822us/step - loss: 0.7706 - genreOutput_loss: 0.2779 - valenceOutput_loss: 0.2086 - genreOutput_categorical_accuracy: 0.8891 - valenceOutput_categorical_accuracy: 0.9090 - val_loss: 1.5808 - val_genreOutput_loss: 0.5162 - val_valenceOutput_loss: 0.6677 - val_genreOutput_categorical_accuracy: 0.8533 - val_valenceOutput_categorical_accuracy: 0.7778\n",
      "\n",
      "Epoch 00070: val_valenceOutput_categorical_accuracy did not improve from 0.80000\n",
      "Epoch 71/75\n",
      "4068/4068 [==============================] - 3s 822us/step - loss: 0.7449 - genreOutput_loss: 0.2769 - valenceOutput_loss: 0.1919 - genreOutput_categorical_accuracy: 0.8864 - valenceOutput_categorical_accuracy: 0.9093 - val_loss: 1.6434 - val_genreOutput_loss: 0.5012 - val_valenceOutput_loss: 0.7331 - val_genreOutput_categorical_accuracy: 0.8622 - val_valenceOutput_categorical_accuracy: 0.7467\n",
      "\n",
      "Epoch 00071: val_valenceOutput_categorical_accuracy did not improve from 0.80000\n",
      "Epoch 72/75\n",
      "4068/4068 [==============================] - 3s 823us/step - loss: 0.7543 - genreOutput_loss: 0.2702 - valenceOutput_loss: 0.2066 - genreOutput_categorical_accuracy: 0.8852 - valenceOutput_categorical_accuracy: 0.9083 - val_loss: 1.5257 - val_genreOutput_loss: 0.5177 - val_valenceOutput_loss: 0.6268 - val_genreOutput_categorical_accuracy: 0.8578 - val_valenceOutput_categorical_accuracy: 0.7733\n",
      "\n",
      "Epoch 00072: val_valenceOutput_categorical_accuracy did not improve from 0.80000\n",
      "Epoch 73/75\n",
      "4068/4068 [==============================] - 3s 823us/step - loss: 0.8606 - genreOutput_loss: 0.3038 - valenceOutput_loss: 0.2577 - genreOutput_categorical_accuracy: 0.8756 - valenceOutput_categorical_accuracy: 0.8781 - val_loss: 1.5298 - val_genreOutput_loss: 0.4733 - val_valenceOutput_loss: 0.6551 - val_genreOutput_categorical_accuracy: 0.8489 - val_valenceOutput_categorical_accuracy: 0.8000\n",
      "\n",
      "Epoch 00073: val_valenceOutput_categorical_accuracy did not improve from 0.80000\n",
      "Epoch 74/75\n",
      "4068/4068 [==============================] - 3s 825us/step - loss: 0.8919 - genreOutput_loss: 0.3237 - valenceOutput_loss: 0.2598 - genreOutput_categorical_accuracy: 0.8646 - valenceOutput_categorical_accuracy: 0.8872 - val_loss: 1.5107 - val_genreOutput_loss: 0.5410 - val_valenceOutput_loss: 0.5802 - val_genreOutput_categorical_accuracy: 0.8400 - val_valenceOutput_categorical_accuracy: 0.7911\n",
      "\n",
      "Epoch 00074: val_valenceOutput_categorical_accuracy did not improve from 0.80000\n",
      "Epoch 75/75\n",
      "4068/4068 [==============================] - 3s 823us/step - loss: 0.7849 - genreOutput_loss: 0.2772 - valenceOutput_loss: 0.2113 - genreOutput_categorical_accuracy: 0.8815 - valenceOutput_categorical_accuracy: 0.9036 - val_loss: 1.5588 - val_genreOutput_loss: 0.4758 - val_valenceOutput_loss: 0.6725 - val_genreOutput_categorical_accuracy: 0.8800 - val_valenceOutput_categorical_accuracy: 0.7600\n",
      "\n",
      "Epoch 00075: val_valenceOutput_categorical_accuracy did not improve from 0.80000\n",
      "Saved model to disk\n"
     ]
    }
   ],
   "source": [
    "\n",
    "H = model.fit(trainX,\n",
    "\t{\"genreOutput\": trainGenres, \"valenceOutput\": trainValence},\n",
    "\tvalidation_data=(devX,\n",
    "\t\t{\"genreOutput\": devGenres, \"valenceOutput\": devValence}),\n",
    "\tepochs=EPOCHS,callbacks=callbacks_list, verbose=1)\n",
    "#callbacks=callbacks_list,\n",
    "# save the model to disk\n",
    "model_json = model.to_json()\n",
    "with open(\"model.json\", \"w\") as json_file:\n",
    "    json_file.write(model_json)\n",
    "# serialize weights to HDF5\n",
    "model.save_weights(\"model.h5\")\n",
    "print(\"Saved model to disk\")"
   ]
  },
  {
   "cell_type": "code",
   "execution_count": 41,
   "metadata": {},
   "outputs": [
    {
     "name": "stdout",
     "output_type": "stream",
     "text": [
      "__________________________________________________________________________________________________\n",
      "Layer (type)                    Output Shape         Param #     Connected to                     \n",
      "==================================================================================================\n",
      "input1 (InputLayer)             (None, 128, 128, 1)  0                                            \n",
      "__________________________________________________________________________________________________\n",
      "BN_input (BatchNormalization)   (None, 128, 128, 1)  4           input1[0][0]                     \n",
      "__________________________________________________________________________________________________\n",
      "Conv1 (Conv2D)                  (None, 43, 43, 32)   320         BN_input[0][0]                   \n",
      "__________________________________________________________________________________________________\n",
      "BN_conv1 (BatchNormalization)   (None, 43, 43, 32)   128         Conv1[0][0]                      \n",
      "__________________________________________________________________________________________________\n",
      "pool1 (MaxPooling2D)            (None, 43, 22, 32)   0           BN_conv1[0][0]                   \n",
      "__________________________________________________________________________________________________\n",
      "Conv2 (Conv2D)                  (None, 15, 8, 128)   36992       pool1[0][0]                      \n",
      "__________________________________________________________________________________________________\n",
      "BN_conv2 (BatchNormalization)   (None, 15, 8, 128)   512         Conv2[0][0]                      \n",
      "__________________________________________________________________________________________________\n",
      "pool2 (MaxPooling2D)            (None, 15, 4, 128)   0           BN_conv2[0][0]                   \n",
      "__________________________________________________________________________________________________\n",
      "Conv3 (Conv2D)                  (None, 5, 2, 128)    147584      pool2[0][0]                      \n",
      "__________________________________________________________________________________________________\n",
      "BN_conv3 (BatchNormalization)   (None, 5, 2, 128)    512         Conv3[0][0]                      \n",
      "__________________________________________________________________________________________________\n",
      "pool3 (MaxPooling2D)            (None, 5, 1, 128)    0           BN_conv3[0][0]                   \n",
      "__________________________________________________________________________________________________\n",
      "Conv4 (Conv2D)                  (None, 2, 1, 192)    221376      pool3[0][0]                      \n",
      "__________________________________________________________________________________________________\n",
      "BN_conv4 (BatchNormalization)   (None, 2, 1, 192)    768         Conv4[0][0]                      \n",
      "__________________________________________________________________________________________________\n",
      "pool4 (MaxPooling2D)            (None, 1, 1, 192)    0           BN_conv4[0][0]                   \n",
      "__________________________________________________________________________________________________\n",
      "Conv5 (Conv2D)                  (None, 1, 1, 256)    442624      pool4[0][0]                      \n",
      "__________________________________________________________________________________________________\n",
      "BN_conv5 (BatchNormalization)   (None, 1, 1, 256)    1024        Conv5[0][0]                      \n",
      "__________________________________________________________________________________________________\n",
      "pool5 (MaxPooling2D)            (None, 1, 1, 256)    0           BN_conv5[0][0]                   \n",
      "__________________________________________________________________________________________________\n",
      "Flatten (Flatten)               (None, 256)          0           pool5[0][0]                      \n",
      "__________________________________________________________________________________________________\n",
      "Drop_Conv4 (Dropout)            (None, 256)          0           Flatten[0][0]                    \n",
      "__________________________________________________________________________________________________\n",
      "FC1 (Dense)                     (None, 10)           2570        Drop_Conv4[0][0]                 \n",
      "__________________________________________________________________________________________________\n",
      "BN_FC1 (BatchNormalization)     (None, 10)           40          FC1[0][0]                        \n",
      "__________________________________________________________________________________________________\n",
      "DropOut_FC1 (Dropout)           (None, 10)           0           BN_FC1[0][0]                     \n",
      "__________________________________________________________________________________________________\n",
      "genreOutput (Dense)             (None, 6)            66          DropOut_FC1[0][0]                \n",
      "__________________________________________________________________________________________________\n",
      "valenceOutput (Dense)           (None, 3)            33          DropOut_FC1[0][0]                \n",
      "==================================================================================================\n",
      "Total params: 854,553\n",
      "Trainable params: 853,059\n",
      "Non-trainable params: 1,494\n",
      "__________________________________________________________________________________________________\n"
     ]
    }
   ],
   "source": [
    "model.summary()"
   ]
  },
  {
   "cell_type": "code",
   "execution_count": 60,
   "metadata": {
    "collapsed": true
   },
   "outputs": [],
   "source": [
    "from keras.utils.vis_utils import plot_model\n",
    "\n",
    "plot_model(model, to_file='model_plot.png', show_shapes=True, show_layer_names=True)"
   ]
  },
  {
   "cell_type": "code",
   "execution_count": 16,
   "metadata": {},
   "outputs": [
    {
     "name": "stdout",
     "output_type": "stream",
     "text": [
      "Loaded model from disk\n"
     ]
    }
   ],
   "source": [
    "json_file = open('model.json', 'r')\n",
    "loaded_model_json = json_file.read()\n",
    "json_file.close()\n",
    "loaded_model = model_from_json(loaded_model_json)\n",
    "# load weights into new model\n",
    "loaded_model.load_weights(\"model.h5\")\n",
    "print(\"Loaded model from disk\")\n",
    "opt = Adam(lr=param.LR)               \n",
    "              \n",
    "loaded_model.compile(loss={'genreOutput': 'categorical_crossentropy', 'valenceOutput': 'categorical_crossentropy'},\n",
    "              loss_weights={'genreOutput': 1, 'valenceOutput': 1.25}, optimizer=opt,\n",
    "                     metrics={'genreOutput':'categorical_accuracy', 'valenceOutput':'categorical_accuracy'})\n"
   ]
  },
  {
   "cell_type": "code",
   "execution_count": 34,
   "metadata": {},
   "outputs": [
    {
     "name": "stdout",
     "output_type": "stream",
     "text": [
      "genreOutput_categorical_accuracy: 86.67%\n",
      "valenceOutput_categorical_accuracy: 80.89%\n"
     ]
    }
   ],
   "source": [
    "'''Evaluating the model on the test set'''\n",
    "scores = model.evaluate(testX, [testGenres,testValence], verbose=0)\n",
    "print(\"%s: %.2f%%\" % (model.metrics_names[3], scores[3]*100)) \n",
    "print(\"%s: %.2f%%\" % (model.metrics_names[4], scores[4]*100)) "
   ]
  },
  {
   "cell_type": "code",
   "execution_count": 35,
   "metadata": {},
   "outputs": [
    {
     "data": {
      "text/plain": [
       "<matplotlib.legend.Legend at 0x7fe6d84e4d30>"
      ]
     },
     "execution_count": 35,
     "metadata": {},
     "output_type": "execute_result"
    },
    {
     "data": {
      "image/png": "[encoded data removed]",
      "text/plain": [
       "<Figure size 432x288 with 1 Axes>"
      ]
     },
     "metadata": {},
     "output_type": "display_data"
    },
    {
     "data": {
      "image/png": "[encoded data removed]",
      "text/plain": [
       "<Figure size 432x288 with 1 Axes>"
      ]
     },
     "metadata": {},
     "output_type": "display_data"
    }
   ],
   "source": [
    "\n",
    "#plot the training loss and accuracy\n",
    "plt.style.use(\"ggplot\")\n",
    "plt.figure()\n",
    "N = EPOCHS\n",
    "plt.plot(np.arange(0, N), H.history[\"genreOutput_loss\"], label=\"genre_train_loss\")\n",
    "plt.plot(np.arange(0, N), H.history[\"genreOutput_categorical_accuracy\"], label=\"genre_train_acc\")\n",
    "plt.plot(np.arange(0, N), H.history[\"valenceOutput_loss\"], label=\"valence_train_loss\")\n",
    "plt.plot(np.arange(0, N), H.history[\"valenceOutput_categorical_accuracy\"], label=\"valence_train_acc\")\n",
    "plt.title(\"Genre Training Loss and Accuracy\")\n",
    "plt.xlabel(\"Epoch #\")\n",
    "plt.ylabel(\"Loss/Accuracy\")\n",
    "plt.legend(loc=\"upper left\")\n",
    "\n",
    "plt.style.use(\"ggplot\")\n",
    "plt.figure()\n",
    "N = EPOCHS\n",
    "plt.plot(np.arange(0, N), H.history[\"val_genreOutput_categorical_accuracy\"], label=\"val_GenreAcc\")\n",
    "plt.plot(np.arange(0, N), H.history[\"val_valenceOutput_categorical_accuracy\"], label=\"val_ValenceAcc\")\n",
    "plt.title(\"Testing Loss and Accuracy\")\n",
    "plt.xlabel(\"Epoch #\")\n",
    "plt.ylabel(\"Loss/Accuracy\")\n",
    "plt.legend(loc=\"upper left\")\n",
    "\n",
    "\n",
    "\n"
   ]
  },
  {
   "cell_type": "code",
   "execution_count": 70,
   "metadata": {},
   "outputs": [
    {
     "data": {
      "text/plain": [
       "dict_keys(['val_loss', 'val_genreOutput_loss', 'val_valenceOutput_loss', 'val_genreOutput_categorical_accuracy', 'val_valenceOutput_categorical_accuracy', 'loss', 'genreOutput_loss', 'valenceOutput_loss', 'genreOutput_categorical_accuracy', 'valenceOutput_categorical_accuracy'])"
      ]
     },
     "execution_count": 70,
     "metadata": {},
     "output_type": "execute_result"
    }
   ],
   "source": [
    "H.history.keys()"
   ]
  },
  {
   "cell_type": "code",
   "execution_count": 22,
   "metadata": {},
   "outputs": [
    {
     "data": {
      "text/plain": [
       "['loss',\n",
       " 'genreOutput_loss',\n",
       " 'valenceOutput_loss',\n",
       " 'genreOutput_categorical_accuracy',\n",
       " 'valenceOutput_categorical_accuracy']"
      ]
     },
     "execution_count": 22,
     "metadata": {},
     "output_type": "execute_result"
    }
   ],
   "source": [
    "loaded_model.metrics_names"
   ]
  },
  {
   "cell_type": "code",
   "execution_count": 35,
   "metadata": {
    "collapsed": true
   },
   "outputs": [],
   "source": [
    "from sklearn.metrics import confusion_matrix"
   ]
  },
  {
   "cell_type": "code",
   "execution_count": 65,
   "metadata": {
    "collapsed": true
   },
   "outputs": [],
   "source": [
    "pred = model.predict(testX)"
   ]
  },
  {
   "cell_type": "code",
   "execution_count": 71,
   "metadata": {
    "collapsed": true
   },
   "outputs": [],
   "source": [
    "cmGenres=confusion_matrix(pred[0].argmax(axis=1), testGenres.argmax(axis=1))\n",
    "cmValence=confusion_matrix(pred[1].argmax(axis=1), testValence.argmax(axis=1))"
   ]
  },
  {
   "cell_type": "code",
   "execution_count": 72,
   "metadata": {},
   "outputs": [
    {
     "data": {
      "text/plain": [
       "array(['Electronic', 'Folk', 'Hip-Hop', 'Instrumental', 'Pop', 'Rock'],\n",
       "      dtype='<U12')"
      ]
     },
     "execution_count": 72,
     "metadata": {},
     "output_type": "execute_result"
    }
   ],
   "source": [
    "label_encoder.classes_"
   ]
  },
  {
   "cell_type": "code",
   "execution_count": 84,
   "metadata": {},
   "outputs": [
    {
     "data": {
      "image/png": "[encoded data removed]",
      "text/plain": [
       "<Figure size 288x216 with 2 Axes>"
      ]
     },
     "metadata": {},
     "output_type": "display_data"
    }
   ],
   "source": [
    "plot_confusion_matrix(cmValence,label_encoder_valence.classes_,4,3,'Confusion Matrix Mood', normalize=True)"
   ]
  },
  {
   "cell_type": "code",
   "execution_count": 82,
   "metadata": {},
   "outputs": [
    {
     "data": {
      "image/png": "[encoded data removed]",
      "text/plain": [
       "<Figure size 360x288 with 2 Axes>"
      ]
     },
     "metadata": {},
     "output_type": "display_data"
    }
   ],
   "source": [
    "plot_confusion_matrix(cmGenres,label_encoder.classes_,5,4,'Confusion Matrix Genres', normalize=True)"
   ]
  },
  {
   "cell_type": "code",
   "execution_count": 11,
   "metadata": {
    "collapsed": true
   },
   "outputs": [],
   "source": [
    "danceability = featData[:,0]\n",
    "energy = featData[:,1]\n",
    "valence = featData[:,2]\n",
    "accousticness = featData[:,3]"
   ]
  },
  {
   "cell_type": "code",
   "execution_count": 33,
   "metadata": {},
   "outputs": [
    {
     "data": {
      "text/plain": [
       "(array([770., 530., 620., 610., 400., 430., 380., 210., 310., 240.]),\n",
       " array([0.0306 , 0.12554, 0.22048, 0.31542, 0.41036, 0.5053 , 0.60024,\n",
       "        0.69518, 0.79012, 0.88506, 0.98   ]),\n",
       " <a list of 10 Patch objects>)"
      ]
     },
     "execution_count": 33,
     "metadata": {},
     "output_type": "execute_result"
    },
    {
     "data": {
      "image/png": "[encoded data removed]",
      "text/plain": [
       "<Figure size 432x288 with 1 Axes>"
      ]
     },
     "metadata": {},
     "output_type": "display_data"
    }
   ],
   "source": [
    "'''Checking out the distribution of valence in the total dataset'''\n",
    "plt.hist(valence)"
   ]
  },
  {
   "cell_type": "code",
   "execution_count": 58,
   "metadata": {
    "collapsed": true
   },
   "outputs": [],
   "source": [
    "np.set_printoptions(suppress=True)"
   ]
  },
  {
   "cell_type": "markdown",
   "metadata": {},
   "source": [
    "model.summary()"
   ]
  },
  {
   "cell_type": "code",
   "execution_count": null,
   "metadata": {},
   "outputs": [],
   "source": [
    "'''Hyper params grid search'''\n",
    "param = Params('params.json')\n",
    "param.dict['LR']=.001\n",
    "param.dict['BatchSize']=60\n",
    "param.dict['regparam']=.001\n",
    "param.dict['dropout'] = .5\n",
    "param.dict['FCLayers']=1\n",
    "\n",
    "LRparams = [.01,.001]\n",
    "BSparams=[75,150]\n",
    "L2Params = [.001,.002,.003]\n",
    "df = pd.DataFrame(index = range(0,100), columns =['LR','BS','L2','genre_acc','valence_acc'])\n",
    "param.dict['dropout']=.5\n",
    "count=0\n",
    "EPOCHS=50\n",
    "\n",
    "for LR in LRparams:\n",
    "    for BS in BSparams:\n",
    "        for L2 in L2Params:\n",
    "            param.dict['LR']=LR\n",
    "            param.dict['BatchSize']=BS\n",
    "            param.dict['regparam']=L2\n",
    "            print('LR:{:.3f}, BS:{:.2f}, L2:{:.4f}'.format(LR,BS,L2))\n",
    "            model = build(width=IMAGE_DIMS[1], height=IMAGE_DIMS[0],\n",
    "              depth=IMAGE_DIMS[2], classesGenres = len(label_encoder.classes_), classesValence = len(label_encoder_valence.classes_)\n",
    "              ,param=param, activate=\"softmax\")\n",
    "\n",
    "            opt = Adam(lr=param.LR)               \n",
    "              \n",
    "            model.compile(loss={'genreOutput': 'categorical_crossentropy', 'valenceOutput': 'categorical_crossentropy'},\n",
    "              loss_weights={'genreOutput': 1, 'valenceOutput': 1.25}, optimizer=opt,\n",
    "                     metrics={'genreOutput':'categorical_accuracy', 'valenceOutput':'categorical_accuracy'})\n",
    "\n",
    "            H = model.fit(trainX,{\"genreOutput\": trainGenres, \"valenceOutput\": trainValence},\n",
    "                          validation_data=(devX, {\"genreOutput\": devGenres, \"valenceOutput\": devValence}),\n",
    "                          epochs=EPOCHS, verbose=1)\n",
    "            bestaccgenre = np.max(H.history['val_genreOutput_categorical_accuracy'])\n",
    "            print('bestaccG:{:.3f}'.format(bestaccgenre))\n",
    "            bestaccvalence = np.max(H.history['val_valenceOutput_categorical_accuracy'])\n",
    "            print('bestaccV:{:.3f}'.format(bestaccvalence))\n",
    "            df['LR'][count]=LR\n",
    "            df['BS'][count]=BS\n",
    "            df['L2'][count]=L2\n",
    "            df['genre_acc'][count]=bestaccgenre\n",
    "            df['valence_acc'][count]=bestaccvalence\n",
    "            count= count+1\n",
    "print(df)\n",
    "            "
   ]
  },
  {
   "cell_type": "code",
   "execution_count": 38,
   "metadata": {
    "collapsed": true
   },
   "outputs": [],
   "source": [
    "df.to_csv('df.csv')"
   ]
  },
  {
   "cell_type": "code",
   "execution_count": 39,
   "metadata": {
    "collapsed": true
   },
   "outputs": [],
   "source": [
    "df=df.dropna()"
   ]
  },
  {
   "cell_type": "code",
   "execution_count": 40,
   "metadata": {},
   "outputs": [
    {
     "data": {
      "text/html": [
       "<div>\n",
       "<style scoped>\n",
       "    .dataframe tbody tr th:only-of-type {\n",
       "        vertical-align: middle;\n",
       "    }\n",
       "\n",
       "    .dataframe tbody tr th {\n",
       "        vertical-align: top;\n",
       "    }\n",
       "\n",
       "    .dataframe thead th {\n",
       "        text-align: right;\n",
       "    }\n",
       "</style>\n",
       "<table border=\"1\" class=\"dataframe\">\n",
       "  <thead>\n",
       "    <tr style=\"text-align: right;\">\n",
       "      <th></th>\n",
       "      <th>LR</th>\n",
       "      <th>BS</th>\n",
       "      <th>L2</th>\n",
       "      <th>genre_acc</th>\n",
       "      <th>valence_acc</th>\n",
       "    </tr>\n",
       "  </thead>\n",
       "  <tbody>\n",
       "    <tr>\n",
       "      <th>0</th>\n",
       "      <td>0.01</td>\n",
       "      <td>75</td>\n",
       "      <td>0.001</td>\n",
       "      <td>0.84</td>\n",
       "      <td>0.76</td>\n",
       "    </tr>\n",
       "    <tr>\n",
       "      <th>1</th>\n",
       "      <td>0.01</td>\n",
       "      <td>75</td>\n",
       "      <td>0.002</td>\n",
       "      <td>0.755556</td>\n",
       "      <td>0.728889</td>\n",
       "    </tr>\n",
       "    <tr>\n",
       "      <th>2</th>\n",
       "      <td>0.01</td>\n",
       "      <td>75</td>\n",
       "      <td>0.003</td>\n",
       "      <td>0.795556</td>\n",
       "      <td>0.702222</td>\n",
       "    </tr>\n",
       "    <tr>\n",
       "      <th>3</th>\n",
       "      <td>0.01</td>\n",
       "      <td>150</td>\n",
       "      <td>0.001</td>\n",
       "      <td>0.804444</td>\n",
       "      <td>0.742222</td>\n",
       "    </tr>\n",
       "    <tr>\n",
       "      <th>4</th>\n",
       "      <td>0.01</td>\n",
       "      <td>150</td>\n",
       "      <td>0.002</td>\n",
       "      <td>0.755556</td>\n",
       "      <td>0.702222</td>\n",
       "    </tr>\n",
       "    <tr>\n",
       "      <th>5</th>\n",
       "      <td>0.01</td>\n",
       "      <td>150</td>\n",
       "      <td>0.003</td>\n",
       "      <td>0.795556</td>\n",
       "      <td>0.675556</td>\n",
       "    </tr>\n",
       "    <tr>\n",
       "      <th>6</th>\n",
       "      <td>0.001</td>\n",
       "      <td>75</td>\n",
       "      <td>0.001</td>\n",
       "      <td>0.871111</td>\n",
       "      <td>0.782222</td>\n",
       "    </tr>\n",
       "    <tr>\n",
       "      <th>7</th>\n",
       "      <td>0.001</td>\n",
       "      <td>75</td>\n",
       "      <td>0.002</td>\n",
       "      <td>0.857778</td>\n",
       "      <td>0.773333</td>\n",
       "    </tr>\n",
       "    <tr>\n",
       "      <th>8</th>\n",
       "      <td>0.001</td>\n",
       "      <td>75</td>\n",
       "      <td>0.003</td>\n",
       "      <td>0.848889</td>\n",
       "      <td>0.795556</td>\n",
       "    </tr>\n",
       "    <tr>\n",
       "      <th>9</th>\n",
       "      <td>0.001</td>\n",
       "      <td>150</td>\n",
       "      <td>0.001</td>\n",
       "      <td>0.884444</td>\n",
       "      <td>0.804444</td>\n",
       "    </tr>\n",
       "    <tr>\n",
       "      <th>10</th>\n",
       "      <td>0.001</td>\n",
       "      <td>150</td>\n",
       "      <td>0.002</td>\n",
       "      <td>0.875556</td>\n",
       "      <td>0.791111</td>\n",
       "    </tr>\n",
       "    <tr>\n",
       "      <th>11</th>\n",
       "      <td>0.001</td>\n",
       "      <td>150</td>\n",
       "      <td>0.003</td>\n",
       "      <td>0.862222</td>\n",
       "      <td>0.764444</td>\n",
       "    </tr>\n",
       "  </tbody>\n",
       "</table>\n",
       "</div>"
      ],
      "text/plain": [
       "       LR   BS     L2 genre_acc valence_acc\n",
       "0    0.01   75  0.001      0.84        0.76\n",
       "1    0.01   75  0.002  0.755556    0.728889\n",
       "2    0.01   75  0.003  0.795556    0.702222\n",
       "3    0.01  150  0.001  0.804444    0.742222\n",
       "4    0.01  150  0.002  0.755556    0.702222\n",
       "5    0.01  150  0.003  0.795556    0.675556\n",
       "6   0.001   75  0.001  0.871111    0.782222\n",
       "7   0.001   75  0.002  0.857778    0.773333\n",
       "8   0.001   75  0.003  0.848889    0.795556\n",
       "9   0.001  150  0.001  0.884444    0.804444\n",
       "10  0.001  150  0.002  0.875556    0.791111\n",
       "11  0.001  150  0.003  0.862222    0.764444"
      ]
     },
     "execution_count": 40,
     "metadata": {},
     "output_type": "execute_result"
    }
   ],
   "source": [
    "df"
   ]
  },
  {
   "cell_type": "code",
   "execution_count": 77,
   "metadata": {
    "collapsed": true
   },
   "outputs": [],
   "source": [
    "def plot_confusion_matrix(cm,\n",
    "                          target_names,\n",
    "                          figsizex,\n",
    "                          figsizey,\n",
    "                          title='Confusion matrix',\n",
    "                          cmap=None,\n",
    "                          normalize=True):\n",
    "   \n",
    "    import matplotlib.pyplot as plt\n",
    "    import numpy as np\n",
    "    import itertools\n",
    "\n",
    "    accuracy = np.trace(cm) / float(np.sum(cm))\n",
    "    misclass = 1 - accuracy\n",
    "\n",
    "    if cmap is None:\n",
    "        cmap = plt.get_cmap('Blues')\n",
    "\n",
    "    plt.figure(figsize=(figsizex, figsizey))\n",
    "    plt.imshow(cm, cmap=cmap)\n",
    "    plt.title(title)\n",
    "    plt.colorbar()\n",
    "\n",
    "    if target_names is not None:\n",
    "        tick_marks = np.arange(len(target_names))\n",
    "        plt.xticks(tick_marks, target_names, rotation=45)\n",
    "        plt.yticks(tick_marks, target_names)\n",
    "        plt.grid(False)\n",
    "    if normalize:\n",
    "        cm = cm.astype('float') / cm.sum(axis=1)[:, np.newaxis]\n",
    "\n",
    "\n",
    "    thresh = cm.max() / 1.5 if normalize else cm.max() / 2\n",
    "    for i, j in itertools.product(range(cm.shape[0]), range(cm.shape[1])):\n",
    "        if normalize:\n",
    "            plt.text(j, i, \"{:0.3f}\".format(cm[i, j]),\n",
    "                     horizontalalignment=\"center\",\n",
    "                     color=\"white\" if cm[i, j] > thresh else \"black\")\n",
    "        else:\n",
    "            plt.text(j, i, \"{:,}\".format(cm[i, j]),\n",
    "                     horizontalalignment=\"center\",\n",
    "                     color=\"white\" if cm[i, j] > thresh else \"black\")\n",
    "\n",
    "\n",
    "    plt.tight_layout()\n",
    "    plt.ylabel('True label')\n",
    "    plt.xlabel('Predicted label\\naccuracy={:0.3f}; misclass={:0.3f}'.format(accuracy, misclass))\n",
    "    plt.show()"
   ]
  },
  {
   "cell_type": "code",
   "execution_count": null,
   "metadata": {
    "collapsed": true
   },
   "outputs": [],
   "source": []
  }
 ],
 "metadata": {
  "kernelspec": {
   "display_name": "Python 3",
   "language": "python",
   "name": "python3"
  },
  "language_info": {
   "codemirror_mode": {
    "name": "ipython",
    "version": 3
   },
   "file_extension": ".py",
   "mimetype": "text/x-python",
   "name": "python",
   "nbconvert_exporter": "python",
   "pygments_lexer": "ipython3",
   "version": "3.6.3"
  }
 },
 "nbformat": 4,
 "nbformat_minor": 2
}
